{
 "cells": [
  {
   "cell_type": "code",
   "execution_count": 11,
   "id": "25ce434e",
   "metadata": {},
   "outputs": [],
   "source": [
    "movie = 'daredevil'\n",
    "movie_rating = 5\n",
    "popularity_score = 72.65"
   ]
  },
  {
   "cell_type": "code",
   "execution_count": 12,
   "id": "115d3721",
   "metadata": {},
   "outputs": [
    {
     "name": "stdout",
     "output_type": "stream",
     "text": [
      "I recommended it, It is good\n"
     ]
    }
   ],
   "source": [
    "if movie_rating >=4 and popularity_score > 80:\n",
    "     print(\"Highly recommended\")\n",
    "elif movie_rating >=3 and popularity_score > 70:\n",
    "    print (\"I recommended it, It is good\")\n",
    "elif movie_rating <=2 and popularity_score > 60:\n",
    "    print (\"You should check it out!\")\n",
    "elif movie_rating <=2 and popularity_score <50:\n",
    "    print (\"Don't watch it, It is a waste of time\")\n",
    "    "
   ]
  },
  {
   "cell_type": "code",
   "execution_count": null,
   "id": "a6e7573e",
   "metadata": {},
   "outputs": [],
   "source": []
  }
 ],
 "metadata": {
  "kernelspec": {
   "display_name": "Python 3 (ipykernel)",
   "language": "python",
   "name": "python3"
  },
  "language_info": {
   "codemirror_mode": {
    "name": "ipython",
    "version": 3
   },
   "file_extension": ".py",
   "mimetype": "text/x-python",
   "name": "python",
   "nbconvert_exporter": "python",
   "pygments_lexer": "ipython3",
   "version": "3.9.15"
  }
 },
 "nbformat": 4,
 "nbformat_minor": 5
}
